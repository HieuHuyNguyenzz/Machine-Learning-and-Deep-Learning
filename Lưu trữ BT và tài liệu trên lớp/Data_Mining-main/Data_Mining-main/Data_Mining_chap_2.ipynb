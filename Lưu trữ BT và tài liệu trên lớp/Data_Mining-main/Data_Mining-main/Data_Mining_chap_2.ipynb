{
  "nbformat": 4,
  "nbformat_minor": 0,
  "metadata": {
    "colab": {
      "provenance": [],
      "collapsed_sections": [
        "K4H1QHD1xNZk",
        "cbgGkeWW1dzl",
        "-e05P_5s4VK1",
        "u3aod-9y6OUW",
        "FE7na37n8rN4",
        "_fm7zrXWAKdq"
      ]
    },
    "kernelspec": {
      "name": "python3",
      "display_name": "Python 3"
    },
    "language_info": {
      "name": "python"
    }
  },
  "cells": [
    {
      "cell_type": "markdown",
      "source": [
        "# Bài 1"
      ],
      "metadata": {
        "id": "K4H1QHD1xNZk"
      }
    },
    {
      "cell_type": "code",
      "source": [
        "data = [13, 15, 16, 16, 19, 20, 20, 21, 22, 22, 25, 25, 25, 25, 30, 33, 33, 35, 35, 35, 35, 36, 40, 45, 46, 52, 70]"
      ],
      "metadata": {
        "id": "ghGlkeYmzh8L"
      },
      "execution_count": 1,
      "outputs": []
    },
    {
      "cell_type": "markdown",
      "source": [
        "i.\n",
        "- Tính trung bình (mean):\n",
        "\n",
        "Để tính trung bình, ta cộng tất cả các giá trị rồi chia cho số lượng giá trị:\n",
        "\n",
        "$(13 + 15 + 16 + 16 + 19 + 20 + 20 + 21 + 22 + 22 + 25 + 25 + 25 + 25 + 30 + 33 + 33 + 35 + 35 + 35 + 35 + 36 + 40 + 45 + 46 + 52 + 70) / 27 = 29.37$\n",
        "\n",
        "\n",
        "- Tính trung vị (median):\n",
        "\n",
        "Vì có số lượng giá trị lẻ, ta lấy giá trị ở giữa danh sách đã sắp xếp:\n",
        "Trung vị = 25"
      ],
      "metadata": {
        "id": "_8VPZDrJzfmn"
      }
    },
    {
      "cell_type": "code",
      "source": [
        "import numpy as np\n",
        "# tính trung bình\n",
        "mean = np.mean(data)\n",
        "print(\"Trung bình: \", mean)\n",
        "\n",
        "#tính trung vị\n",
        "median = np.median(data)\n",
        "print(\"Trung vị: \", median)"
      ],
      "metadata": {
        "colab": {
          "base_uri": "https://localhost:8080/"
        },
        "id": "yySDJ4Q_zrnX",
        "outputId": "b96d39fe-334a-4b48-86b2-9c7ea3bb9fca"
      },
      "execution_count": 2,
      "outputs": [
        {
          "output_type": "stream",
          "name": "stdout",
          "text": [
            "Trung bình:  29.962962962962962\n",
            "Trung vị:  25.0\n"
          ]
        }
      ]
    },
    {
      "cell_type": "markdown",
      "source": [
        "ii. Mode:\n",
        "Mode là giá trị xuất hiện nhiều nhất trong tập dữ liệu. Trong trường hợp này, có nhiều giá trị xuất hiện cùng số lần là 25 và 35. Vậy dữ liệu có 2 mode.\n"
      ],
      "metadata": {
        "id": "T0psxFEj0Fmj"
      }
    },
    {
      "cell_type": "code",
      "source": [
        "import statistics as st\n",
        "print(\"Mode của dữ liệu là:\", st.mode(data))"
      ],
      "metadata": {
        "colab": {
          "base_uri": "https://localhost:8080/"
        },
        "id": "sEnwEiGk0Ifq",
        "outputId": "7a087b66-f86c-4dee-8803-daf96118de53"
      },
      "execution_count": 3,
      "outputs": [
        {
          "output_type": "stream",
          "name": "stdout",
          "text": [
            "Mode của dữ liệu là: 25\n"
          ]
        }
      ]
    },
    {
      "cell_type": "markdown",
      "source": [
        "iii. Trung điểm:\n",
        "Để tính trung điểm, ta lấy giá trị nằm giữa giá trị trung vị và giá trị trước trung vị:\n",
        "\n",
        "Trung điểm $= (70 + 13) / 2 = 41.5$\n"
      ],
      "metadata": {
        "id": "rruN8ilozp2I"
      }
    },
    {
      "cell_type": "code",
      "source": [
        "mid_range = (np.min(data) + np.max(data)) / 2\n",
        "print(\" Trung điểm:\", mid_range)"
      ],
      "metadata": {
        "colab": {
          "base_uri": "https://localhost:8080/"
        },
        "id": "8QI8Lvl70vLZ",
        "outputId": "ac6ca66f-a742-46c8-df11-774a7f868b0d"
      },
      "execution_count": 4,
      "outputs": [
        {
          "output_type": "stream",
          "name": "stdout",
          "text": [
            " Trung điểm: 41.5\n"
          ]
        }
      ]
    },
    {
      "cell_type": "markdown",
      "source": [
        "iv. Tìm ra vị trí của tứ phân vị thứ nhất (Q1) và tứ phân vị thứ ba (Q3). Q1 sẽ là vị trí thứ (n + 1) / 4 và Q3 sẽ là vị trí thứ 3 * (n + 1) / 4 trong đó n là số lượng giá trị dữ liệu.\n",
        "\n",
        "Vậy:\n",
        "- $Q1 = data[(27 + 1)/4 = 7]$ = 20\n",
        "- $Q3 = data[(3 * (27 + 1))/4 = 21]$ = 35\n",
        "\n",
        "Khoảng tứ phân vị = 35 - 20 = 15"
      ],
      "metadata": {
        "id": "USZT0Nx-0sv3"
      }
    },
    {
      "cell_type": "code",
      "source": [
        "q1, q3 = np.percentile(data, [25, 75])\n",
        "print(\"Q1:\", q1)\n",
        "print(\"Q3:\", q3)"
      ],
      "metadata": {
        "colab": {
          "base_uri": "https://localhost:8080/"
        },
        "id": "BuVIZ1XFAvyF",
        "outputId": "a7d69440-6975-4d20-b09e-ab6736a9ec6c"
      },
      "execution_count": 5,
      "outputs": [
        {
          "output_type": "stream",
          "name": "stdout",
          "text": [
            "Q1: 20.5\n",
            "Q3: 35.0\n"
          ]
        }
      ]
    },
    {
      "cell_type": "markdown",
      "source": [
        "iv.\n",
        "1. Giá trị nhỏ nhất: 13\n",
        "2. Giá trị lớn nhất: 70\n",
        "3. Phạm vi giá trị: 57 (70 - 13)\n",
        "4. Độ lệch chuẩn: 13.778 (là độ lệch tiêu chuẩn của các giá trị tuổi)\n",
        "5. Trung bình cộng: 28.148 (tổng các giá trị tuổi chia cho số lượng giá trị)\n",
        "\n",
        "\n",
        "v."
      ],
      "metadata": {
        "id": "Zg1fyFqo1cRq"
      }
    },
    {
      "cell_type": "code",
      "execution_count": 7,
      "metadata": {
        "colab": {
          "base_uri": "https://localhost:8080/",
          "height": 472
        },
        "id": "j5yiVPZrw4SR",
        "outputId": "8232b6a1-31f6-42fc-8b35-5e8a24c92d9f"
      },
      "outputs": [
        {
          "output_type": "display_data",
          "data": {
            "text/plain": [
              "<Figure size 640x480 with 1 Axes>"
            ],
            "image/png": "[encoded data removed]"
          },
          "metadata": {}
        }
      ],
      "source": [
        "import matplotlib.pyplot as plt\n",
        "\n",
        "plt.boxplot(data)\n",
        "\n",
        "plt.xlabel('Age')\n",
        "plt.title('Boxplot of Age Data')\n",
        "\n",
        "plt.show()"
      ]
    },
    {
      "cell_type": "markdown",
      "source": [
        "# Bài 2"
      ],
      "metadata": {
        "id": "cbgGkeWW1dzl"
      }
    },
    {
      "cell_type": "code",
      "source": [
        "data = {\n",
        "'1-5': 200,\n",
        "'6-15': 450,\n",
        "'16-20': 300,\n",
        "'21-50': 1500,\n",
        "'51-80': 700,\n",
        "'81-110': 44\n",
        "}"
      ],
      "metadata": {
        "id": "fYDIcM_822SK"
      },
      "execution_count": 9,
      "outputs": []
    },
    {
      "cell_type": "markdown",
      "source": [
        "Tổng tần số của tất cả các khoảng:\n",
        "\n",
        "---\n",
        "\n",
        "\n",
        "Tổng tần số = $200 + 450 + 300 + 1500 + 700 + 44 = 3194$\n",
        "\n",
        "Tổng tần số tích lũy trong từng khoảng:\n",
        "- Tần số tích lũy 1-5 = 200\n",
        "- Tần số tích lũy 6-15 = 200 + 450 = 650\n",
        "- Tần số tích lũy 16-20 = 650 + 300 = 950\n",
        "- Tần số tích lũy 21-50 = 950 + 1500 = 2450\n",
        "- Tần số tích lũy 51-80 = 2450 + 700 = 3150\n",
        "- Tần số tích lũy 81-110 = 3150 + 44 = 3194\n",
        "\n",
        "Trung vị xấp xỉ sẽ nằm ở khoảng chứa tần số tích lũy gần nhất với nửa tổng tần số, tức là 3194/2 = 1597.\n",
        "\n",
        "Từ đó, ta có trung vị xấp xỉ là khoảng dữ liệu 21-50\n",
        "\n",
        "L1 = 21, L2 = 50, n = 3194, $freq_{median}$ = 1597\n",
        "\n",
        "=> trung vị sấp xỉ = $L1 + ((n/2 - 950)/ freq_{median})*(L2-L1)$"
      ],
      "metadata": {
        "id": "rxQ5Ebz42Md8"
      }
    },
    {
      "cell_type": "code",
      "source": [
        "# Tính tổng số phần tử\n",
        "n = sum(data.values())\n",
        "\n",
        "# Tìm nhóm trung vị\n",
        "cumulative_frequency = 0\n",
        "for group, frequency in data.items():\n",
        "    cumulative_frequency += frequency\n",
        "    if cumulative_frequency >= n/2:\n",
        "        median_group = group\n",
        "        median_frequency = frequency\n",
        "        break\n",
        "\n",
        "# Tính F\n",
        "F = cumulative_frequency - median_frequency\n",
        "\n",
        "# Tính c\n",
        "L, U = [int(i) for i in median_group.split('-')]\n",
        "c = U - L + 1\n",
        "\n",
        "# Tính trung vị sấp xỉ\n",
        "median = L + ((n/2 - F) / median_frequency) * c\n",
        "\n",
        "print(\"Trung vị sấp xỉ của dữ liệu là:\", median)"
      ],
      "metadata": {
        "colab": {
          "base_uri": "https://localhost:8080/"
        },
        "id": "4JfiYehvzIfI",
        "outputId": "14ed0ec3-9bf5-463b-dbef-cf138f879c09"
      },
      "execution_count": 11,
      "outputs": [
        {
          "output_type": "stream",
          "name": "stdout",
          "text": [
            "Trung vị sấp xỉ của dữ liệu là: 33.94\n"
          ]
        }
      ]
    },
    {
      "cell_type": "markdown",
      "source": [
        "# Bài 3"
      ],
      "metadata": {
        "id": "-e05P_5s4VK1"
      }
    },
    {
      "cell_type": "markdown",
      "source": [
        "i."
      ],
      "metadata": {
        "id": "-Nrlnxt76smw"
      }
    },
    {
      "cell_type": "code",
      "source": [
        "tuoi = np.array([23, 23, 27, 27, 39, 41, 47, 49, 50, 52, 54, 54, 56, 57, 58, 58, 60, 61])\n",
        "mo = np.array([9.5, 26.5, 7.8, 17.8, 31.4, 25.9, 27.4, 27.2, 31.2, 34.6, 42.5, 28.8, 33.4, 30.2, 34.1, 32.9, 41.2, 35.7])\n",
        "\n",
        "# Tính trung bình\n",
        "tuoi_mean = np.mean(tuoi)\n",
        "mo_mean = np.mean(mo)\n",
        "\n",
        "# Tính trung vị\n",
        "tuoi_median = np.median(tuoi)\n",
        "mo_median = np.median(mo)\n",
        "\n",
        "# Tính độ lệch chuẩn\n",
        "tuoi_std = np.std(tuoi)\n",
        "mo_std = np.std(mo)\n",
        "\n",
        "print(\"Tuoi - Trung binh:\", tuoi_mean)\n",
        "print(\"Tuoi - Trung vi:\", tuoi_median)\n",
        "print(\"Tuoi - Do lech chuan:\", tuoi_std)\n",
        "print()\n",
        "print(\"%mo - Trung binh:\", mo_mean)\n",
        "print(\"%mo - Trung vi:\", mo_median)\n",
        "print(\"%mo - Do lech chuan:\", mo_std)"
      ],
      "metadata": {
        "colab": {
          "base_uri": "https://localhost:8080/"
        },
        "id": "bLhw05gr6pNw",
        "outputId": "64856250-4cf3-49d1-f79c-d3bfce8d1ebd"
      },
      "execution_count": null,
      "outputs": [
        {
          "output_type": "stream",
          "name": "stdout",
          "text": [
            "Tuoi - Trung binh: 46.44444444444444\n",
            "Tuoi - Trung vi: 51.0\n",
            "Tuoi - Do lech chuan: 12.846193652519204\n",
            "\n",
            "%mo - Trung binh: 28.783333333333335\n",
            "%mo - Trung vi: 30.7\n",
            "%mo - Do lech chuan: 8.993655170915401\n"
          ]
        }
      ]
    },
    {
      "cell_type": "markdown",
      "source": [
        "ii."
      ],
      "metadata": {
        "id": "0faOB_D18Cxq"
      }
    },
    {
      "cell_type": "code",
      "source": [
        "import matplotlib.pyplot as plt\n",
        "\n",
        "plt.boxplot([tuoi, mo])\n",
        "plt.xticks([1, 2], [\"Tuoi\", \"%mo\"])\n",
        "plt.xlabel(\"Bien\")\n",
        "plt.ylabel(\"Gia tri\")\n",
        "plt.title(\"Bieu do hop - Tuoi va %mo\")\n",
        "plt.show()"
      ],
      "metadata": {
        "colab": {
          "base_uri": "https://localhost:8080/",
          "height": 472
        },
        "id": "SHvoYvGw8EtL",
        "outputId": "ea193728-bbf6-4623-e789-a79245ca82bb"
      },
      "execution_count": null,
      "outputs": [
        {
          "output_type": "display_data",
          "data": {
            "text/plain": [
              "<Figure size 640x480 with 1 Axes>"
            ],
            "image/png": "[encoded data removed]"
          },
          "metadata": {}
        }
      ]
    },
    {
      "cell_type": "markdown",
      "source": [
        "iii."
      ],
      "metadata": {
        "id": "IPwhONLM8K1d"
      }
    },
    {
      "cell_type": "code",
      "source": [
        "plt.scatter(tuoi, mo)\n",
        "plt.xlabel(\"Tuoi\")\n",
        "plt.ylabel(\"%mo\")\n",
        "plt.title(\"Bieu do phan tan - Tuoi va %mo\")\n",
        "plt.show()\n"
      ],
      "metadata": {
        "colab": {
          "base_uri": "https://localhost:8080/",
          "height": 472
        },
        "id": "D9Z_PYyw8NDu",
        "outputId": "4418e1e4-482b-42fa-d8bc-71845d680a6e"
      },
      "execution_count": null,
      "outputs": [
        {
          "output_type": "display_data",
          "data": {
            "text/plain": [
              "<Figure size 640x480 with 1 Axes>"
            ],
            "image/png": "[encoded data removed]"
          },
          "metadata": {}
        }
      ]
    },
    {
      "cell_type": "code",
      "source": [
        "import seaborn as sns\n",
        "import pandas as pd\n",
        "\n",
        "df = pd.DataFrame({'Tuoi': tuoi, '%mo': mo})\n",
        "sns.jointplot(x='Tuoi', y='%mo', data=df, kind='hex')\n",
        "plt.show()\n"
      ],
      "metadata": {
        "colab": {
          "base_uri": "https://localhost:8080/",
          "height": 607
        },
        "id": "Mws39Cm58RWD",
        "outputId": "65fcb19c-3d36-489c-84b5-c3ce8074cd91"
      },
      "execution_count": null,
      "outputs": [
        {
          "output_type": "display_data",
          "data": {
            "text/plain": [
              "<Figure size 600x600 with 3 Axes>"
            ],
            "image/png": "[encoded data removed]"
          },
          "metadata": {}
        }
      ]
    },
    {
      "cell_type": "markdown",
      "source": [
        "# Bài 4"
      ],
      "metadata": {
        "id": "u3aod-9y6OUW"
      }
    },
    {
      "cell_type": "code",
      "source": [
        "A = [22, 1, 42, 10]\n",
        "B = [20, 0, 36, 8]"
      ],
      "metadata": {
        "id": "4KiF9H576Nmm"
      },
      "execution_count": null,
      "outputs": []
    },
    {
      "cell_type": "markdown",
      "source": [
        "1. Euclide:\n",
        "$d = \\sqrt((22 - 20)^2 + (1 - 0)^2 + (42 - 36)^2 + (10 - 8)^2)\n",
        "  = \\sqrt(4 + 1 + 36 + 4)\n",
        "  = \\sqrt(45)\n",
        "  ≈ 6.71$\n",
        "\n",
        "2. Manhattan:\n",
        "$d = |22 - 20| + |1 - 0| + |42 - 36| + |10 - 8|\n",
        "= 2 + 1 + 6 + 2\n",
        "= 11$\n",
        "\n",
        "3. Minkowski:\n",
        "Khi p = 3, ta có khoảng cách Minkowski là khoảng cách Euclide.\n",
        "\n",
        "4. supremum:\n",
        "$d = max(|22 - 20|,  |1 - 0|, |42 - 36|, |10 - 8|) = 6$\n"
      ],
      "metadata": {
        "id": "lfV0tgQg4pwv"
      }
    },
    {
      "cell_type": "code",
      "source": [
        "from scipy.spatial import distance\n",
        "\n",
        "euclidean_distance = distance.euclidean(A, B)\n",
        "print(\"Khoảng cách Euclide giữa hai đối tượng là:\", euclidean_distance)\n",
        "\n",
        "manhattan_distance = distance.cityblock(A, B)\n",
        "print(\"Khoảng cách Manhattan giữa hai đối tượng là:\", manhattan_distance)\n",
        "\n",
        "minkowski_distance = distance.minkowski(A, B, 3)\n",
        "print(\"Khoảng cách Minkowski giữa hai đối tượng là:\", minkowski_distance)\n",
        "\n",
        "supremum_distance = np.max(np.abs(np.array(A) - np.array(B)))\n",
        "print(\"Khoảng cách supremum giữa hai đối tượng là:\", supremum_distance)"
      ],
      "metadata": {
        "colab": {
          "base_uri": "https://localhost:8080/"
        },
        "id": "Xh6gch0w251g",
        "outputId": "539bcf17-c046-488f-abc8-1b2233984f7b"
      },
      "execution_count": null,
      "outputs": [
        {
          "output_type": "stream",
          "name": "stdout",
          "text": [
            "Khoảng cách Euclide giữa hai đối tượng là: 6.708203932499369\n",
            "Khoảng cách Manhattan giữa hai đối tượng là: 11\n",
            "Khoảng cách Minkowski giữa hai đối tượng là: 6.153449493663682\n",
            "Khoảng cách supremum giữa hai đối tượng là: 6\n"
          ]
        }
      ]
    },
    {
      "cell_type": "code",
      "source": [],
      "metadata": {
        "id": "uvRRXnlD6b1L"
      },
      "execution_count": null,
      "outputs": []
    },
    {
      "cell_type": "markdown",
      "source": [
        "# Bài 5"
      ],
      "metadata": {
        "id": "FE7na37n8rN4"
      }
    },
    {
      "cell_type": "markdown",
      "source": [
        "i."
      ],
      "metadata": {
        "id": "s5H8sqiS-Ha7"
      }
    },
    {
      "cell_type": "code",
      "source": [
        "import numpy as np\n",
        "from scipy.spatial import distance\n",
        "\n",
        "# Tập dữ liệu gốc\n",
        "data = np.array([[1.5, 1.7],\n",
        "                 [2, 1.9],\n",
        "                 [1.6, 1.8],\n",
        "                 [1.2, 1.5],\n",
        "                 [1.5, 1.0]])\n",
        "\n",
        "# Điểm dữ liệu truy vấn\n",
        "query = np.array([1.7, 1.6])\n",
        "\n",
        "# Tính khoảng cách Euclid và xếp hạng các điểm dữ liệu\n",
        "euclidean_distances = distance.cdist(data, [query], metric='euclidean')\n",
        "euclidean_ranked_indices = np.argsort(euclidean_distances.flatten())\n",
        "\n",
        "# Tính khoảng cách Manhattan và xếp hạng các điểm dữ liệu\n",
        "manhattan_distances = distance.cdist(data, [query], metric='cityblock')\n",
        "manhattan_ranked_indices = np.argsort(manhattan_distances.flatten())\n",
        "\n",
        "# Tính khoảng cách supremum và xếp hạng các điểm dữ liệu\n",
        "supremum_distances = distance.cdist(data, [query], metric='chebyshev')\n",
        "supremum_ranked_indices = np.argsort(supremum_distances.flatten())\n",
        "\n",
        "# Tính độ tương đồng cos và xếp hạng các điểm dữ liệu\n",
        "cosine_similarities = np.dot(data, query) / (np.linalg.norm(data, axis=1) * np.linalg.norm(query))\n",
        "cosine_ranked_indices = np.argsort(cosine_similarities)[::-1]\n",
        "\n",
        "# Hiển thị xếp hạng các điểm dữ liệu\n",
        "print(\"RANKING based on Euclidean distance:\")\n",
        "for i, idx in enumerate(euclidean_ranked_indices):\n",
        "    print(f\"Rank {i+1}: Data point at index {idx}\")\n",
        "\n",
        "print(\"\\nRANKING based on Manhattan distance:\")\n",
        "for i, idx in enumerate(manhattan_ranked_indices):\n",
        "    print(f\"Rank {i+1}: Data point at index {idx}\")\n",
        "\n",
        "print(\"\\nRANKING based on Supremum distance:\")\n",
        "for i, idx in enumerate(supremum_ranked_indices):\n",
        "    print(f\"Rank {i+1}: Data point at index {idx}\")\n",
        "\n",
        "print(\"\\nRANKING based on Cosine similarity:\")\n",
        "for i, idx in enumerate(cosine_ranked_indices):\n",
        "    print(f\"Rank {i+1}: Data point at index {idx}\")\n"
      ],
      "metadata": {
        "colab": {
          "base_uri": "https://localhost:8080/"
        },
        "id": "QX9sD3Wh8sjw",
        "outputId": "4c3eeec5-c2be-472d-a545-b24cb1e0291d"
      },
      "execution_count": null,
      "outputs": [
        {
          "output_type": "stream",
          "name": "stdout",
          "text": [
            "RANKING based on Euclidean distance:\n",
            "Rank 1: Data point at index 0\n",
            "Rank 2: Data point at index 2\n",
            "Rank 3: Data point at index 1\n",
            "Rank 4: Data point at index 3\n",
            "Rank 5: Data point at index 4\n",
            "\n",
            "RANKING based on Manhattan distance:\n",
            "Rank 1: Data point at index 0\n",
            "Rank 2: Data point at index 2\n",
            "Rank 3: Data point at index 1\n",
            "Rank 4: Data point at index 3\n",
            "Rank 5: Data point at index 4\n",
            "\n",
            "RANKING based on Supremum distance:\n",
            "Rank 1: Data point at index 0\n",
            "Rank 2: Data point at index 2\n",
            "Rank 3: Data point at index 1\n",
            "Rank 4: Data point at index 3\n",
            "Rank 5: Data point at index 4\n",
            "\n",
            "RANKING based on Cosine similarity:\n",
            "Rank 1: Data point at index 1\n",
            "Rank 2: Data point at index 2\n",
            "Rank 3: Data point at index 0\n",
            "Rank 4: Data point at index 3\n",
            "Rank 5: Data point at index 4\n"
          ]
        }
      ]
    },
    {
      "cell_type": "markdown",
      "source": [
        "ii."
      ],
      "metadata": {
        "id": "DyiON06x-VQn"
      }
    },
    {
      "cell_type": "code",
      "source": [
        "import numpy as np\n",
        "from scipy.spatial import distance\n",
        "\n",
        "# Tập dữ liệu gốc\n",
        "data = np.array([[1.5, 1.7],\n",
        "                 [2, 1.9],\n",
        "                 [1.6, 1.8],\n",
        "                 [1.2, 1.5],\n",
        "                 [1.5, 1.0]])\n",
        "\n",
        "# Chuẩn hóa tập dữ liệu\n",
        "normalized_data = data / np.linalg.norm(data, axis=1, keepdims=True)\n",
        "print(normalized_data)\n",
        "# Điểm dữ liệu truy vấn\n",
        "query = np.array([1.7, 1.6])\n",
        "normalized_query = query / np.linalg.norm(query)\n",
        "\n",
        "# Tính khoảng cách Euclid và xếp hạng các điểm dữ liệu\n",
        "distances = distance.cdist(normalized_data, [normalized_query], metric='euclidean')\n",
        "ranked_indices = np.argsort(distances.flatten())\n",
        "\n",
        "# Xếp hạng các điểm dữ liệu\n",
        "for i, idx in enumerate(ranked_indices):\n",
        "    print(f'RANK {i+1}: Data point at index {idx}')\n"
      ],
      "metadata": {
        "colab": {
          "base_uri": "https://localhost:8080/"
        },
        "id": "rebRe6mW-Ja0",
        "outputId": "252048c3-a158-4110-e4a4-a1cf0fee96c7"
      },
      "execution_count": null,
      "outputs": [
        {
          "output_type": "stream",
          "name": "stdout",
          "text": [
            "[[0.66162164 0.74983786]\n",
            " [0.72499943 0.68874946]\n",
            " [0.66436384 0.74740932]\n",
            " [0.62469505 0.78086881]\n",
            " [0.83205029 0.5547002 ]]\n",
            "RANK 1: Data point at index 1\n",
            "RANK 2: Data point at index 2\n",
            "RANK 3: Data point at index 0\n",
            "RANK 4: Data point at index 3\n",
            "RANK 5: Data point at index 4\n"
          ]
        }
      ]
    },
    {
      "cell_type": "markdown",
      "source": [
        "# Bài 6\n"
      ],
      "metadata": {
        "id": "_fm7zrXWAKdq"
      }
    },
    {
      "cell_type": "markdown",
      "source": [
        "Để làm mịn dữ liệu bằng phương pháp trung bình khoảng, ta sử dụng các khoảng cùng tần số để tính trung bình các giá trị trong khoảng và thay thế các giá trị ban đầu bằng giá trị trung bình đó.\n",
        "\n",
        "Dựa trên dữ liệu đã cho, chúng ta có thể áp dụng phương pháp trung bình khoảng với khoảng cùng tần số cỡ 3 như sau:\n",
        "\n",
        "### Bước 1:\n",
        "Chúng ta chia dữ liệu thành các khoảng cung cấp dựa trên tần số cỡ 3. Ban đầu, chúng ta chọn khoảng tìm đầu tiên từ giá trị thấp nhất đến giá trị cao nhất và sau đó tạo khoảng cung cấp tương tự cho các giá trị còn lại.\n",
        "\n",
        "Dữ liệu ban đầu: 13, 15, 16, 16, 19, 20, 20, 21, 22, 22, 25, 25, 25, 25, 30, 33, 33, 35, 35, 35, 35, 36, 40, 45, 46, 52, 70\n",
        "\n",
        "Các khoảng cùng tần số cỡ 3:\n",
        "\n",
        "- Khoảng 1: 13, 15, 16\n",
        "- Khoảng 2: 16, 19, 20\n",
        "- Khoảng 3: 20, 21, 22\n",
        "- Khoảng 4: 22, 25, 25\n",
        "- Khoảng 5: 25, 25, 30\n",
        "- Khoảng 6: 30, 33, 33\n",
        "- Khoảng 7: 33, 35, 35\n",
        "- Khoảng 8: 35, 35, 35\n",
        "- Khoảng 9: 35, 36, 40\n",
        "- Khoảng 10: 40, 45, 46\n",
        "- Khoảng 11: 46, 52, 70\n",
        "\n",
        "### Bước 2:\n",
        "Tính trung bình cho mỗi khoảng.\n",
        "\n",
        "- Khoảng 1: (13+15+16)/3 = 14.67\n",
        "- Khoảng 2: (16+19+20)/3 = 18.33\n",
        "- Khoảng 3: (20+21+22)/3 = 21\n",
        "- Khoảng 4: (22+25+25)/3 = 24\n",
        "- Khoảng 5: (25+25+30)/3 = 26.67\n",
        "- Khoảng 6: (30+33+33)/3 = 32\n",
        "- Khoảng 7: (33+35+35)/3 = 34.33\n",
        "- Khoảng 8: (35+35+35)/3 = 35\n",
        "- Khoảng 9: (35+36+40)/3 = 37\n",
        "- Khoảng 10: (40+45+46)/3 = 43.67\n",
        "- Khoảng 11: (46+52+70)/3 = 56\n",
        "\n",
        "###Bước 3:\n",
        "Thay thế các giá trị ban đầu bằng giá trị trung bình trong mỗi khoảng.\n",
        "\n",
        "Dữ liệu mới sau khi làm mịn: 14.67, 18.33, 21, 24, 26.67, 32, 34.33, 35, 37, 43.67, 56\n",
        "\n",
        "### Nhận xét:\n",
        "Phương pháp làm mịn bằng trung bình khoảng đã làm mịn dữ liệu ban đầu bằng cách thay thế các giá trị ban đầu bằng giá trị trung bình của các khoảng cùng tần số cỡ 3. Kết quả là dữ liệu mới đã làm mịn có ít \"điểm nổi\" hơn và các giá trị trở nên mượt hơn. Điều này có thể làm giảm độ biến động và tạo ra một trực quan hóa mịn hơn của dữ liệu. Tuy nhiên, kỹ thuật này cũng có thể làm mất đi sự đa dạng và chi tiết của dữ liệu ban đầu."
      ],
      "metadata": {
        "id": "BJXwDKKAA62n"
      }
    },
    {
      "cell_type": "code",
      "source": [
        "import numpy as np\n",
        "\n",
        "# Dữ liệu ban đầu\n",
        "data = [13, 15, 16, 16, 19, 20, 20, 21, 22, 22, 25, 25, 25, 25, 30, 33, 33, 35, 35, 35, 35, 36, 40, 45, 46, 52, 70]\n",
        "\n",
        "# Chia dữ liệu thành các khoảng cùng tần số cỡ 3\n",
        "khoang = 3\n",
        "data_khoang = [data[i:i+khoang] for i in range(0, len(data), khoang)]\n",
        "\n",
        "# Tính giá trị trung bình của từng khoảng\n",
        "data_mothua = [np.mean(k) for k in data_khoang]\n",
        "\n",
        "# Hiển thị dữ liệu đã được làm mịn\n",
        "print(data_mothua)"
      ],
      "metadata": {
        "id": "d3yWjrYP-WO0",
        "colab": {
          "base_uri": "https://localhost:8080/"
        },
        "outputId": "374f3ca4-e603-4023-b275-4ea902bfdfbc"
      },
      "execution_count": null,
      "outputs": [
        {
          "output_type": "stream",
          "name": "stdout",
          "text": [
            "[14.666666666666666, 18.333333333333332, 21.0, 24.0, 26.666666666666668, 33.666666666666664, 35.0, 40.333333333333336, 56.0]\n"
          ]
        }
      ]
    },
    {
      "cell_type": "markdown",
      "source": [
        "# Bài 7"
      ],
      "metadata": {
        "id": "IRdHoqZ0yBxv"
      }
    },
    {
      "cell_type": "markdown",
      "source": [
        "Chuẩn hóa min-max:\n",
        "\n",
        "- new_min = 0 và new_max = 1\n",
        "- Công thức: X_norm = $(X - X_{min}) / (X_{max} - X_{min})$\n",
        "- Trong đó, X là giá trị ban đầu, X_min và X_max lần lượt là giá trị nhỏ nhất và lớn nhất trong nhóm dữ liệu.\n",
        "\n",
        "Chuẩn hóa z-score:\n",
        "\n",
        "- Công thức: X_norm = $(X - mean(X)) / absolutedeviation(X)$ (hoặc mean absolute deviation với trung bình độ lệch tuyệt đối)\n",
        "- Trong đó, X là giá trị ban đầu, mean(X) là giá trị trung bình của nhóm dữ liệu, và absolute_deviation(X) là trung bình độ lệch tuyệt đối của nhóm dữ liệu.\n",
        "\n",
        "Chuẩn hóa bằng thang thập phân:\n",
        "\n",
        "- Công thức: X_norm = $X / 10^d$\n",
        "- Trong đó, X là giá trị ban đầu và d là số chữ số sau dấu thập phân trong giá trị lớn nhất trong nhóm dữ liệu."
      ],
      "metadata": {
        "id": "0iFB0YMdyovs"
      }
    },
    {
      "cell_type": "code",
      "source": [
        "# Dữ liệu ban đầu\n",
        "data = [200, 300, 400, 600, 1000]\n",
        "\n",
        "# Chuẩn hóa min-max\n",
        "min_val = min(data)\n",
        "max_val = max(data)\n",
        "data_min_max = [(x - min_val) / (max_val - min_val) for x in data]\n",
        "\n",
        "# Chuẩn hóa z-score\n",
        "mean_val = np.mean(data)\n",
        "std_dev = np.std(data)\n",
        "data_z_std = [(x - mean_val) / std_dev for x in data]\n",
        "\n",
        "# Chuẩn hóa z-score với trung bình độ lệch tuyệt đối\n",
        "mean_val = np.mean(data)\n",
        "mad_val = np.mean(np.abs(data - mean_val))\n",
        "data_z_mad = [(x - mean_val) / mad_val for x in data]\n",
        "\n",
        "# Chuẩn hóa bằng thang thập phân\n",
        "decimal_scale = len(str(max(data)))\n",
        "data_decimal = [x / 10**decimal_scale for x in data]\n",
        "\n",
        "# Hiển thị kết quả\n",
        "print(\"Min-Max:\", data_min_max)\n",
        "print(\"Z-Score:\", data_z_std)\n",
        "print(\"Z-Score with MAD:\", data_z_mad)\n",
        "print(\"Decimal Scale:\", data_decimal)"
      ],
      "metadata": {
        "colab": {
          "base_uri": "https://localhost:8080/"
        },
        "id": "VKF28uATyESe",
        "outputId": "4466e574-9148-4eab-8e69-196e75557d4d"
      },
      "execution_count": null,
      "outputs": [
        {
          "output_type": "stream",
          "name": "stdout",
          "text": [
            "Min-Max: [0.0, 0.125, 0.25, 0.5, 1.0]\n",
            "Z-Score: [-1.0606601717798212, -0.7071067811865475, -0.35355339059327373, 0.35355339059327373, 1.7677669529663687]\n",
            "Z-Score with MAD: [-1.25, -0.8333333333333334, -0.4166666666666667, 0.4166666666666667, 2.0833333333333335]\n",
            "Decimal Scale: [0.02, 0.03, 0.04, 0.06, 0.1]\n"
          ]
        }
      ]
    },
    {
      "cell_type": "markdown",
      "source": [
        "# Bài 8.1"
      ],
      "metadata": {
        "id": "hcgSduK31DSl"
      }
    },
    {
      "cell_type": "markdown",
      "source": [
        "Dữ liệu đã cho: 13, 15, 16, 16, 19, 20, 20, 21, 22, 22, 25, 25, 25, 25, 30, 33, 33, 35, 35, 35, 35, 36, 40, 45, 46, 52, 70\n",
        "\n",
        "Giá trị nhỏ nhất: 13\n",
        "Giá trị lớn nhất: 70\n",
        "\n",
        "## Chuẩn hóa min-max\n",
        "X_norm = (X - X_min) / (X_max - X_min)\n",
        "\n",
        "X_norm = (35 - 13) / (70 - 13) = 22 / 57 ≈ 0.386\n",
        "\n",
        "Do đó, giá trị 35 khi được chuẩn hóa bằng phương pháp min-max sẽ là khoảng 0.386 trong khoảng [0.0, 1.0].\n",
        "\n",
        "## Chuẩn hóa z\n",
        "mean(X) = (13 + 15 + 16 + 16 + 19 + 20 + 20 + 21 + 22 + 22 + 25 + 25 + 25 + 25 + 30 + 33 + 33 + 35 + 35 + 35 + 35 + 36 + 40 + 45 + 46 + 52 + 70) / 27 ≈ 29.63\n",
        "\n",
        "X_norm = (35 - 29.63) / 12.70 ≈ 0.423\n",
        "\n",
        "Do đó, giá trị 35 sau khi được chuẩn hóa bằng phương pháp z-score với độ lệch chuẩn là 12.70 năm sẽ là khoảng 0.423.\n",
        "\n",
        "## Thang thập phân\n",
        "Với giá trị X = 35 và d = 0, ta có:\n",
        "\n",
        "X_norm = 35 / 10^0 = 35 / 1 = 35\n",
        "\n",
        "Do đó, giá trị 35 sau khi được chuẩn hóa bằng phương pháp chuẩn hóa bằng thang thập phân sẽ là 35."
      ],
      "metadata": {
        "id": "j1ecaNma3l6f"
      }
    },
    {
      "cell_type": "markdown",
      "source": [
        "# Bài 8.2"
      ],
      "metadata": {
        "id": "RhNGg2gz56zu"
      }
    },
    {
      "cell_type": "markdown",
      "source": [
        "## Chuẩn hóa z\n",
        "Bước 1: Tính giá trị trung bình và độ lệch chuẩn cho mỗi thuộc tính.\n",
        "mean(tuổi) = (23 + 23 + 27 + 27 + 39 + 41 + 47 + 49 + 50 + 52 + 54 + 54 + 56 + 57 + 58 + 58 + 60 + 61) / 18 ≈ 46.889\n",
        "std_dev(tuổi) = 12.139\n",
        "\n",
        "mean(%mỡ) = (9.5 + 26.5 + 7.8 + 17.8 + 31.4 + 25.9 + 27.4 + 27.2 + 31.2 + 34.6 + 42.5 + 28.8 + 33.4 + 30.2 + 34.1 + 32.9 + 41.2 + 35.7) / 18 ≈ 28.561\n",
        "std_dev(%mỡ) = 10.934\n",
        "\n",
        "Bước 2: Chuẩn hóa z-score cho mỗi thuộc tính.\n",
        "Tuổi chuẩn hóa (tuổi_norm) = (tuổi - mean(tuổi)) / std_dev(tuổi)\n",
        "Lượng mỡ cơ thể chuẩn hóa (%mỡ_ norm) = (%mỡ - mean(%mỡ)) / std_dev(%mỡ)\n",
        "\n",
        "Sau khi tính toán, ta thu được kết quả chuẩn hóa z-score như sau:\n",
        "\n",
        "tuổi_norm: -1.314, -1.314, -0.804, -0.804, 0.661, 0.925, 1.634, 1.898, 1.988, 2.416, 2.679, 2.679, 2.942, 3.206, 3.47, 3.47, 3.997, 4.261\n",
        "%mỡ_norm: -1.331, -0.19, -1.544, -0.849, 0.429, -0.382, 0.057, 0.016, 0.329, 1.108, 2.036, 0.13, 0.918, 0.47, 1.006, 0.809, 1.822, 1.213\n",
        "\n",
        "## Hệ số tương quan\n",
        "Hệ số tương quan (r) được tính bằng công thức:\n",
        "\n",
        "$$r = Σ((tuổiNorm - mean(tuổiNorm)) \\times (\\%mỡNorm - mean(\\%mỡNorm)))$$\n",
        "\n",
        "Vậy\n",
        "\n",
        "$r = ((-1.314 * -1.331) + (-1.314 * -0.19) + (-0.804 * -1.544) + (-0.804 * -0.849) + (0.661 * 0.429) + (0.925 * -0.382) + (1.634 * 0.057) + (1.898 * 0.016) + (1.988 * 0.329) + (2.416 * 1.108) + (2.679 * 2.036) + (2.679 * 0.13) + (2.942 * 0.918) + (3.206 * 0.47) + (3.47 * 1.006) + (3.47 * 0.809) + (3.997 * 1.822) + (4.261 * 1.213)) / 18 ~= 2 $"
      ],
      "metadata": {
        "id": "JRCwnVK67Pbq"
      }
    },
    {
      "cell_type": "markdown",
      "source": [
        "# Bài 9"
      ],
      "metadata": {
        "id": "lFIpJ1L__vHF"
      }
    },
    {
      "cell_type": "markdown",
      "source": [
        "Chia cùng tần số:\n",
        "Phương pháp này đảm bảo rằng mỗi khoảng sẽ có cùng số lượng bản ghi. Với tổng cộng 12 bản ghi, ta sẽ chia thành 3 khoảng với tần số là 4.\n",
        "\n",
        "Khoảng 1: 5, 10, 11, 13\n",
        "Khoảng 2: 15, 35, 50, 55\n",
        "Khoảng 3: 72, 92, 204, 215\n",
        "\n",
        "Chia cùng độ rộng:\n",
        "Phương pháp này cho phép chúng ta chia dữ liệu thành các khoảng có cùng độ rộng. Để thực hiện điều này, ta tính phạm vi của dữ liệu và chia cho số khoảng, trong trường hợp này là 3.\n",
        "\n",
        "Phạm vi = Giá trị lớn nhất - Giá trị nhỏ nhất = 215 - 5 = 210\n",
        "Độ rộng của mỗi khoảng = Phạm vi / Số khoảng = 210 / 3 ≈ 70\n",
        "\n",
        "Khoảng 1: 5 - 74\n",
        "Khoảng 2: 75 - 144\n",
        "Khoảng 3: 145 - 215\n",
        "\n",
        "Phân cụm:\n",
        "Phương pháp này sử dụng thuật toán phân cụm để chia dữ liệu thành các nhóm dựa trên đặc điểm tương đồng. Trong trường hợp này, ta có thể sử dụng thuật toán K-means để phân cụm dữ liệu giá bán thành 3 nhóm.\n",
        "\n",
        "Sau khi áp dụng thuật toán K-means, ta có thể được kết quả chia dữ liệu thành các nhóm có các giá trị tương tự:\n",
        "\n",
        "Nhóm 1: 5, 10, 11, 13, 15\n",
        "Nhóm 2: 35, 50, 55, 72, 92\n",
        "Nhóm 3: 204, 215"
      ],
      "metadata": {
        "id": "hgts4AcF_w0O"
      }
    },
    {
      "cell_type": "code",
      "source": [
        "from sklearn.cluster import KMeans\n",
        "\n",
        "data = [5, 10, 11, 13, 15, 35, 50, 55, 72, 92, 204, 215]\n",
        "\n",
        "kmeans = KMeans(n_clusters=3)\n",
        "\n",
        "kmeans.fit([[x] for x in data])\n",
        "\n",
        "labels = kmeans.labels_\n",
        "print(labels)\n",
        "for i in range(3):\n",
        "  cluster = [value for label, value in zip(labels, data) if label == i ]\n",
        "  print(f\"Nhóm {i+1}: {cluster}\" )"
      ],
      "metadata": {
        "colab": {
          "base_uri": "https://localhost:8080/"
        },
        "id": "eWZ_A4ZF_wPh",
        "outputId": "5d4d780f-12fd-490c-8873-39d2a59d43eb"
      },
      "execution_count": null,
      "outputs": [
        {
          "output_type": "stream",
          "name": "stdout",
          "text": [
            "[0 0 0 0 0 0 2 2 2 2 1 1]\n",
            "Nhóm 1: [5, 10, 11, 13, 15, 35]\n",
            "Nhóm 2: [204, 215]\n",
            "Nhóm 3: [50, 55, 72, 92]\n"
          ]
        },
        {
          "output_type": "stream",
          "name": "stderr",
          "text": [
            "/usr/local/lib/python3.10/dist-packages/sklearn/cluster/_kmeans.py:870: FutureWarning: The default value of `n_init` will change from 10 to 'auto' in 1.4. Set the value of `n_init` explicitly to suppress the warning\n",
            "  warnings.warn(\n"
          ]
        }
      ]
    },
    {
      "cell_type": "markdown",
      "source": [
        "# Bài 10"
      ],
      "metadata": {
        "id": "M5_xPjZhByHf"
      }
    },
    {
      "cell_type": "code",
      "source": [
        "import matplotlib.pyplot as plt\n",
        "\n",
        "data = [13, 15, 16, 16, 19, 20, 20, 21, 22, 22, 25, 25, 25, 25, 30, 33, 33, 35, 35, 35, 35, 36, 40, 45, 46, 52, 70]\n",
        "bins = range(min(data), max(data) + 12, 10)  # Tạo các khoảng giá trị có độ rộng 10\n",
        "\n",
        "plt.hist(data, bins=bins, edgecolor='black')\n",
        "plt.xticks(bins)\n",
        "plt.xlabel('Tuổi')\n",
        "plt.ylabel('Tần suất')\n",
        "plt.title('Biểu đồ tần suất theo tuổi')\n",
        "plt.show()\n"
      ],
      "metadata": {
        "colab": {
          "base_uri": "https://localhost:8080/",
          "height": 472
        },
        "id": "nJ8V-xlWBAou",
        "outputId": "5dada804-daf8-4b4a-dbf3-53d11ca25c67"
      },
      "execution_count": null,
      "outputs": [
        {
          "output_type": "display_data",
          "data": {
            "text/plain": [
              "<Figure size 640x480 with 1 Axes>"
            ],
            "image/png": "[encoded data removed]"
          },
          "metadata": {}
        }
      ]
    },
    {
      "cell_type": "code",
      "source": [
        "import random\n",
        "\n",
        "div = {\"thanh niên\": [13, 19], \"trung niên\": [20, 35], \"người cao tuổi\": [36, 70]}"
      ],
      "metadata": {
        "id": "TqmNohS-B-ow"
      },
      "execution_count": null,
      "outputs": []
    },
    {
      "cell_type": "code",
      "source": [
        "sample_srswor = random.sample(data, k=5)\n",
        "\n",
        "print(sample_srswor)"
      ],
      "metadata": {
        "colab": {
          "base_uri": "https://localhost:8080/"
        },
        "id": "3Ql7-LtKDCYE",
        "outputId": "5dd88a42-c672-4fd5-c108-cb6fdb6c9c17"
      },
      "execution_count": null,
      "outputs": [
        {
          "output_type": "stream",
          "name": "stdout",
          "text": [
            "[16, 16, 30, 33, 21]\n"
          ]
        }
      ]
    },
    {
      "cell_type": "code",
      "source": [
        "# cho phép lấy mẫu có thay thế\n",
        "sample_srswr = random.choices(data, k=5)\n",
        "\n",
        "print(sample_srswr)"
      ],
      "metadata": {
        "colab": {
          "base_uri": "https://localhost:8080/"
        },
        "id": "6rehTnrjDLsj",
        "outputId": "e755c4cf-3653-4d9d-ebb1-a24128dec16a"
      },
      "execution_count": null,
      "outputs": [
        {
          "output_type": "stream",
          "name": "stdout",
          "text": [
            "[35, 35, 15, 46, 46]\n"
          ]
        }
      ]
    },
    {
      "cell_type": "code",
      "source": [
        "cluster_sampling = []\n",
        "# Tạo các cụm dựa trên khoảng tuổi của mỗi lớp và sau đó chọn ngẫu nhiên 1 mẫu từ mỗi cụm\n",
        "for _, values in div.items():\n",
        "    lower_bound, upper_bound = values[0], values[1]\n",
        "    cluster_data = [x for x in data if lower_bound <= x <= upper_bound]\n",
        "    sample = random.sample(cluster_data, k=1)\n",
        "    cluster_sampling.extend(sample)\n",
        "\n",
        "print(cluster_sampling)"
      ],
      "metadata": {
        "colab": {
          "base_uri": "https://localhost:8080/"
        },
        "id": "GW0GOUpmEeQ-",
        "outputId": "2012d476-ce43-4663-c33f-b922f1f44f1d"
      },
      "execution_count": null,
      "outputs": [
        {
          "output_type": "stream",
          "name": "stdout",
          "text": [
            "[19, 25, 46]\n"
          ]
        }
      ]
    },
    {
      "cell_type": "code",
      "source": [
        "stratified_sampling = []\n",
        "# Chia dữ liệu thành các lớp dựa trên khoảng tuổi và chọn ngẫu nhiên 1 mẫu từ mỗi lớp:\n",
        "\n",
        "for _, values in div.items():\n",
        "    lower_bound, upper_bound = values[0], values[1]\n",
        "    stratum_data = [x for x in data if lower_bound <= x <= upper_bound]\n",
        "    sample = random.sample(stratum_data, k=1)\n",
        "    stratified_sampling.extend(sample)\n",
        "\n",
        "print(stratified_sampling)"
      ],
      "metadata": {
        "colab": {
          "base_uri": "https://localhost:8080/"
        },
        "id": "hgmcJ6KwFGqN",
        "outputId": "62e5ad38-b7e7-4bbf-d023-7c47cc3ceaf3"
      },
      "execution_count": null,
      "outputs": [
        {
          "output_type": "stream",
          "name": "stdout",
          "text": [
            "[15, 22, 46]\n"
          ]
        }
      ]
    }
  ]
}